{
 "cells": [
  {
   "cell_type": "code",
   "execution_count": 1,
   "id": "052ebfd1",
   "metadata": {},
   "outputs": [
    {
     "name": "stdout",
     "output_type": "stream",
     "text": [
      "tensor([1, 2, 3], device='privateuseone:0')\n"
     ]
    },
    {
     "name": "stderr",
     "output_type": "stream",
     "text": [
      "Dropped Escape call with ulEscapeCode : 0x03007703\n"
     ]
    }
   ],
   "source": [
    "import torch, torch_directml\n",
    "dml = torch_directml.device()\n",
    "x = torch.tensor([1,2,3], device=dml)\n",
    "print(x)\n"
   ]
  },
  {
   "cell_type": "code",
   "execution_count": 2,
   "id": "edf1496b",
   "metadata": {},
   "outputs": [
    {
     "name": "stdout",
     "output_type": "stream",
     "text": [
      "DirectML available: True\n",
      "Chosen device: privateuseone:0\n",
      "z: tensor([[6., 6.],\n",
      "        [6., 6.]], device='privateuseone:0')\n",
      "z.device: privateuseone:0\n",
      "z on CPU: tensor([[6., 6.],\n",
      "        [6., 6.]])\n"
     ]
    }
   ],
   "source": [
    "import torch, torch_directml\n",
    "\n",
    "print(\"DirectML available:\", hasattr(torch_directml, \"device\"))\n",
    "dml = torch_directml.device()\n",
    "print(\"Chosen device:\", dml)\n",
    "\n",
    "# Check device type reported by PyTorch\n",
    "x = torch.ones((2, 2), device=dml)\n",
    "y = torch.ones((2, 2), device=dml) * 3\n",
    "z = x @ y        # small matmul on the GPU via DirectML\n",
    "print(\"z:\", z)\n",
    "print(\"z.device:\", z.device)   # expect privateuseone:0\n",
    "\n",
    "# Quick sanity: move result to CPU and check values\n",
    "print(\"z on CPU:\", z.to(\"cpu\"))"
   ]
  }
 ],
 "metadata": {
  "kernelspec": {
   "display_name": "dml",
   "language": "python",
   "name": "python3"
  },
  "language_info": {
   "codemirror_mode": {
    "name": "ipython",
    "version": 3
   },
   "file_extension": ".py",
   "mimetype": "text/x-python",
   "name": "python",
   "nbconvert_exporter": "python",
   "pygments_lexer": "ipython3",
   "version": "3.12.3"
  }
 },
 "nbformat": 4,
 "nbformat_minor": 5
}
